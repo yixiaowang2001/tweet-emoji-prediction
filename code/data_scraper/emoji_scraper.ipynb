{
 "cells": [
  {
   "cell_type": "markdown",
   "id": "defc6048",
   "metadata": {},
   "source": [
    "# Emoji Scraper"
   ]
  },
  {
   "cell_type": "markdown",
   "id": "21a0f83b",
   "metadata": {},
   "source": [
    "Get emoji popularity ranking based on: https://emojitracker.com/"
   ]
  },
  {
   "cell_type": "markdown",
   "id": "32ac0f58",
   "metadata": {},
   "source": [
    "## 1 Scraper"
   ]
  },
  {
   "cell_type": "code",
   "execution_count": 39,
   "id": "a5510506",
   "metadata": {},
   "outputs": [],
   "source": [
    "from selenium import webdriver\n",
    "from selenium.webdriver.common.by import By\n",
    "from selenium.webdriver.chrome.options import Options\n",
    "\n",
    "import pandas as pd"
   ]
  },
  {
   "cell_type": "code",
   "execution_count": 11,
   "id": "01590d5b",
   "metadata": {},
   "outputs": [],
   "source": [
    "chrome_options = Options()\n",
    "chrome_options.add_argument('--headless')\n",
    "\n",
    "driver = webdriver.Chrome(options=chrome_options)\n",
    "driver.get('https://emojitracker.com/')\n",
    "\n",
    "emoji_data = driver.find_element(By.ID, 'data')\n",
    "emoji_elements = emoji_data.find_elements(By.TAG_NAME, 'li')\n",
    "emoji_ids = [li.get_attribute('id') for li in emoji_elements]\n",
    "\n",
    "driver.close()"
   ]
  },
  {
   "cell_type": "code",
   "execution_count": 40,
   "id": "49c519e4",
   "metadata": {},
   "outputs": [],
   "source": [
    "emoji_df = pd.DataFrame({'emoji_unicode': emoji_ids})\n",
    "emoji_df.to_csv('../../data/other/emoji_rank.csv', index=False)"
   ]
  },
  {
   "cell_type": "markdown",
   "id": "d5e59bd1",
   "metadata": {},
   "source": [
    "## 2 Test"
   ]
  },
  {
   "cell_type": "code",
   "execution_count": 46,
   "id": "bd01bcfd",
   "metadata": {
    "scrolled": true
   },
   "outputs": [],
   "source": [
    "test_df = pd.read_csv('../../data/other/emoji_rank.csv')"
   ]
  },
  {
   "cell_type": "code",
   "execution_count": 47,
   "id": "f895b1a6",
   "metadata": {},
   "outputs": [
    {
     "name": "stdout",
     "output_type": "stream",
     "text": [
      "😂\n"
     ]
    }
   ],
   "source": [
    "e = chr(int(test_df['emoji_unicode'][0], 16))\n",
    "print(e)"
   ]
  }
 ],
 "metadata": {
  "kernelspec": {
   "display_name": "Python 3 (ipykernel)",
   "language": "python",
   "name": "python3"
  },
  "language_info": {
   "codemirror_mode": {
    "name": "ipython",
    "version": 3
   },
   "file_extension": ".py",
   "mimetype": "text/x-python",
   "name": "python",
   "nbconvert_exporter": "python",
   "pygments_lexer": "ipython3",
   "version": "3.9.7"
  }
 },
 "nbformat": 4,
 "nbformat_minor": 5
}
