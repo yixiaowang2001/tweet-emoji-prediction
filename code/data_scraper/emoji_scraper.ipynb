{
 "cells": [
  {
   "cell_type": "markdown",
   "id": "9f8409c1",
   "metadata": {},
   "source": [
    "# Emoji Scraper"
   ]
  },
  {
   "cell_type": "markdown",
   "id": "ab87828e",
   "metadata": {},
   "source": [
    "Get emoji popularity ranking based on: https://emojitracker.com/"
   ]
  },
  {
   "cell_type": "markdown",
   "id": "5f87cd9b",
   "metadata": {},
   "source": [
    "## 1 Scraper"
   ]
  },
  {
   "cell_type": "code",
   "execution_count": 39,
   "id": "df705176",
   "metadata": {},
   "outputs": [],
   "source": [
    "from selenium import webdriver\n",
    "from selenium.webdriver.common.by import By\n",
    "from selenium.webdriver.chrome.options import Options\n",
    "\n",
    "import pandas as pd"
   ]
  },
  {
   "cell_type": "code",
   "execution_count": 11,
   "id": "3fae4396",
   "metadata": {},
   "outputs": [],
   "source": [
    "chrome_options = Options()\n",
    "chrome_options.add_argument('--headless')\n",
    "\n",
    "driver = webdriver.Chrome(options=chrome_options)\n",
    "driver.get('https://emojitracker.com/')\n",
    "\n",
    "emoji_data = driver.find_element(By.ID, 'data')\n",
    "emoji_elements = emoji_data.find_elements(By.TAG_NAME, 'li')\n",
    "emoji_ids = [li.get_attribute('id') for li in emoji_elements]\n",
    "\n",
    "driver.close()"
   ]
  },
  {
   "cell_type": "code",
   "execution_count": 40,
   "id": "4a048f16",
   "metadata": {},
   "outputs": [],
   "source": [
    "emoji_df = pd.DataFrame({'emoji_unicode': emoji_ids})\n",
    "emoji_df.to_csv('../../data/other/emoji_rank.csv', index=False)"
   ]
  },
  {
   "cell_type": "markdown",
   "id": "d8ef0078",
   "metadata": {},
   "source": [
    "## 2 Test"
   ]
  },
  {
   "cell_type": "code",
   "execution_count": 46,
   "id": "71156a7f",
   "metadata": {
    "scrolled": true
   },
   "outputs": [],
   "source": [
    "test_df = pd.read_csv('../../data/other/emoji_rank.csv')"
   ]
  },
  {
   "cell_type": "code",
   "execution_count": 47,
   "id": "cf678fba",
   "metadata": {
    "scrolled": true
   },
   "outputs": [
    {
     "name": "stdout",
     "output_type": "stream",
     "text": [
      "😂\n"
     ]
    }
   ],
   "source": [
    "e = chr(int(test_df['emoji_unicode'][0], 16))\n",
    "print(e)"
   ]
  },
  {
   "cell_type": "code",
   "execution_count": 63,
   "id": "26743fd7",
   "metadata": {},
   "outputs": [],
   "source": [
    "emoji_df = pd.DataFrame({'emo': [], 'scraping_time': []})\n",
    "emoji_df.to_csv('../../data/other/scraped_emo.csv', index=False)"
   ]
  }
 ],
 "metadata": {
  "kernelspec": {
   "display_name": "Python 3 (ipykernel)",
   "language": "python",
   "name": "python3"
  },
  "language_info": {
   "codemirror_mode": {
    "name": "ipython",
    "version": 3
   },
   "file_extension": ".py",
   "mimetype": "text/x-python",
   "name": "python",
   "nbconvert_exporter": "python",
   "pygments_lexer": "ipython3",
   "version": "3.9.7"
  }
 },
 "nbformat": 4,
 "nbformat_minor": 5
}
